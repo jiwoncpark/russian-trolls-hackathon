{
 "cells": [
  {
   "cell_type": "code",
   "execution_count": 1,
   "metadata": {},
   "outputs": [],
   "source": [
    "import pandas as pd\n",
    "import numpy as np\n",
    "import matplotlib.pyplot as plt\n",
    "pd.options.display.max_columns = None\n",
    "%matplotlib inline\n",
    "%load_ext autoreload\n",
    "%autoreload 2"
   ]
  },
  {
   "cell_type": "code",
   "execution_count": 46,
   "metadata": {},
   "outputs": [],
   "source": [
    "train = pd.read_csv('mydata/twitter_pollster_7_days_train.csv', index_col=0)\n",
    "train.name = 'train'\n",
    "test = pd.read_csv('mydata/twitter_pollster_7_days_test.csv', index_col=0)\n",
    "test.name = 'test'\n",
    "#results.head()"
   ]
  },
  {
   "cell_type": "code",
   "execution_count": 47,
   "metadata": {},
   "outputs": [
    {
     "data": {
      "text/html": [
       "<div>\n",
       "<style scoped>\n",
       "    .dataframe tbody tr th:only-of-type {\n",
       "        vertical-align: middle;\n",
       "    }\n",
       "\n",
       "    .dataframe tbody tr th {\n",
       "        vertical-align: top;\n",
       "    }\n",
       "\n",
       "    .dataframe thead th {\n",
       "        text-align: right;\n",
       "    }\n",
       "</style>\n",
       "<table border=\"1\" class=\"dataframe\">\n",
       "  <thead>\n",
       "    <tr style=\"text-align: right;\">\n",
       "      <th></th>\n",
       "      <th>content</th>\n",
       "      <th>Trump</th>\n",
       "      <th>Clinton</th>\n",
       "    </tr>\n",
       "  </thead>\n",
       "  <tbody>\n",
       "    <tr>\n",
       "      <th>0</th>\n",
       "      <td>#SometimesItsOkTo Be in the middle. https://t....</td>\n",
       "      <td>41.0</td>\n",
       "      <td>45.0</td>\n",
       "    </tr>\n",
       "    <tr>\n",
       "      <th>1</th>\n",
       "      <td>.@CrookedIntriago set up his #GoodVsEvil proje...</td>\n",
       "      <td>6.0</td>\n",
       "      <td>89.0</td>\n",
       "    </tr>\n",
       "    <tr>\n",
       "      <th>2</th>\n",
       "      <td>KPWR (Power 106)/Los Angeles' The Cruz Show Gi...</td>\n",
       "      <td>82.0</td>\n",
       "      <td>7.0</td>\n",
       "    </tr>\n",
       "    <tr>\n",
       "      <th>3</th>\n",
       "      <td>#SometimesItsOkTo have Pumpkin Pie at 7:45am. ...</td>\n",
       "      <td>38.0</td>\n",
       "      <td>43.0</td>\n",
       "    </tr>\n",
       "    <tr>\n",
       "      <th>4</th>\n",
       "      <td>#ThingsThatDisturbMe Former TV presenter Denis...</td>\n",
       "      <td>43.0</td>\n",
       "      <td>41.0</td>\n",
       "    </tr>\n",
       "  </tbody>\n",
       "</table>\n",
       "</div>"
      ],
      "text/plain": [
       "                                             content  Trump  Clinton\n",
       "0  #SometimesItsOkTo Be in the middle. https://t....   41.0     45.0\n",
       "1  .@CrookedIntriago set up his #GoodVsEvil proje...    6.0     89.0\n",
       "2  KPWR (Power 106)/Los Angeles' The Cruz Show Gi...   82.0      7.0\n",
       "3  #SometimesItsOkTo have Pumpkin Pie at 7:45am. ...   38.0     43.0\n",
       "4  #ThingsThatDisturbMe Former TV presenter Denis...   43.0     41.0"
      ]
     },
     "execution_count": 47,
     "metadata": {},
     "output_type": "execute_result"
    }
   ],
   "source": [
    "train.head()"
   ]
  },
  {
   "cell_type": "code",
   "execution_count": 48,
   "metadata": {},
   "outputs": [],
   "source": [
    "for df in [train, test]:\n",
    "    df['trump_percentage'] = (df['Trump'].values)/(df['Trump'].values + df['Clinton'].values)\n",
    "    #df.drop(['Trump', 'Clinton'], axis=1, inplace=True)\n",
    "    df.to_csv('mydata/twitter_pollster_7_days_%s_trump_percentage.csv' %df.name,  index_label='id')"
   ]
  },
  {
   "cell_type": "code",
   "execution_count": 49,
   "metadata": {},
   "outputs": [
    {
     "data": {
      "text/html": [
       "<div>\n",
       "<style scoped>\n",
       "    .dataframe tbody tr th:only-of-type {\n",
       "        vertical-align: middle;\n",
       "    }\n",
       "\n",
       "    .dataframe tbody tr th {\n",
       "        vertical-align: top;\n",
       "    }\n",
       "\n",
       "    .dataframe thead th {\n",
       "        text-align: right;\n",
       "    }\n",
       "</style>\n",
       "<table border=\"1\" class=\"dataframe\">\n",
       "  <thead>\n",
       "    <tr style=\"text-align: right;\">\n",
       "      <th></th>\n",
       "      <th>content</th>\n",
       "      <th>Trump</th>\n",
       "      <th>Clinton</th>\n",
       "      <th>trump_percentage</th>\n",
       "    </tr>\n",
       "  </thead>\n",
       "  <tbody>\n",
       "    <tr>\n",
       "      <th>1611</th>\n",
       "      <td>Death and destruction needs to stop in this wo...</td>\n",
       "      <td>75.0</td>\n",
       "      <td>11.0</td>\n",
       "      <td>0.872093</td>\n",
       "    </tr>\n",
       "    <tr>\n",
       "      <th>1612</th>\n",
       "      <td>#IslamKills Will someone please press it? #pra...</td>\n",
       "      <td>34.0</td>\n",
       "      <td>37.0</td>\n",
       "      <td>0.478873</td>\n",
       "    </tr>\n",
       "    <tr>\n",
       "      <th>1614</th>\n",
       "      <td>Racist #AlphaEpsilonPi Fazebook page. Go say H...</td>\n",
       "      <td>35.0</td>\n",
       "      <td>43.0</td>\n",
       "      <td>0.448718</td>\n",
       "    </tr>\n",
       "    <tr>\n",
       "      <th>1615</th>\n",
       "      <td>To document memories of the things we’ve done ...</td>\n",
       "      <td>41.0</td>\n",
       "      <td>48.0</td>\n",
       "      <td>0.460674</td>\n",
       "    </tr>\n",
       "    <tr>\n",
       "      <th>1617</th>\n",
       "      <td>It's honestly a dream of mine to write a Wonde...</td>\n",
       "      <td>81.0</td>\n",
       "      <td>9.0</td>\n",
       "      <td>0.900000</td>\n",
       "    </tr>\n",
       "  </tbody>\n",
       "</table>\n",
       "</div>"
      ],
      "text/plain": [
       "                                                content  Trump  Clinton  \\\n",
       "1611  Death and destruction needs to stop in this wo...   75.0     11.0   \n",
       "1612  #IslamKills Will someone please press it? #pra...   34.0     37.0   \n",
       "1614  Racist #AlphaEpsilonPi Fazebook page. Go say H...   35.0     43.0   \n",
       "1615  To document memories of the things we’ve done ...   41.0     48.0   \n",
       "1617  It's honestly a dream of mine to write a Wonde...   81.0      9.0   \n",
       "\n",
       "      trump_percentage  \n",
       "1611          0.872093  \n",
       "1612          0.478873  \n",
       "1614          0.448718  \n",
       "1615          0.460674  \n",
       "1617          0.900000  "
      ]
     },
     "execution_count": 49,
     "metadata": {},
     "output_type": "execute_result"
    }
   ],
   "source": [
    "test.head()"
   ]
  },
  {
   "cell_type": "code",
   "execution_count": 50,
   "metadata": {},
   "outputs": [
    {
     "data": {
      "text/plain": [
       "Index(['id', 'content', 'Trump', 'Clinton', 'trump_percentage'], dtype='object')"
      ]
     },
     "execution_count": 50,
     "metadata": {},
     "output_type": "execute_result"
    }
   ],
   "source": [
    "pd.read_csv('mydata/twitter_pollster_7_days_test_trump_percentage.csv', index_col=False, nrows=5).columns"
   ]
  },
  {
   "cell_type": "code",
   "execution_count": 45,
   "metadata": {},
   "outputs": [
    {
     "data": {
      "text/plain": [
       "0.94"
      ]
     },
     "execution_count": 45,
     "metadata": {},
     "output_type": "execute_result"
    }
   ],
   "source": [
    "470./500\n"
   ]
  },
  {
   "cell_type": "code",
   "execution_count": 14,
   "metadata": {},
   "outputs": [],
   "source": [
    "error_train = pd.read_csv('mydata/twitter_pollster_7_days_train_small.csv', index_col=0)"
   ]
  },
  {
   "cell_type": "code",
   "execution_count": 15,
   "metadata": {},
   "outputs": [
    {
     "data": {
      "text/html": [
       "<div>\n",
       "<style scoped>\n",
       "    .dataframe tbody tr th:only-of-type {\n",
       "        vertical-align: middle;\n",
       "    }\n",
       "\n",
       "    .dataframe tbody tr th {\n",
       "        vertical-align: top;\n",
       "    }\n",
       "\n",
       "    .dataframe thead th {\n",
       "        text-align: right;\n",
       "    }\n",
       "</style>\n",
       "<table border=\"1\" class=\"dataframe\">\n",
       "  <thead>\n",
       "    <tr style=\"text-align: right;\">\n",
       "      <th></th>\n",
       "      <th>content</th>\n",
       "      <th>avg_followers</th>\n",
       "      <th>avg_following</th>\n",
       "      <th>avg_right</th>\n",
       "      <th>avg_left</th>\n",
       "      <th>avg_news</th>\n",
       "      <th>time</th>\n",
       "      <th>left</th>\n",
       "      <th>mid</th>\n",
       "      <th>right</th>\n",
       "    </tr>\n",
       "  </thead>\n",
       "  <tbody>\n",
       "    <tr>\n",
       "      <th>0</th>\n",
       "      <td>Obama is highly likely to fail these talks #Gu...</td>\n",
       "      <td>67.000000</td>\n",
       "      <td>72.00000</td>\n",
       "      <td>1.0</td>\n",
       "      <td>0.000000</td>\n",
       "      <td>0.0</td>\n",
       "      <td>539.0</td>\n",
       "      <td>0.053191</td>\n",
       "      <td>0.405063</td>\n",
       "      <td>0.883117</td>\n",
       "    </tr>\n",
       "    <tr>\n",
       "      <th>1</th>\n",
       "      <td>'@LNever_mindL Then he was cheating us for yea...</td>\n",
       "      <td>43.800000</td>\n",
       "      <td>53.00000</td>\n",
       "      <td>0.8</td>\n",
       "      <td>0.200000</td>\n",
       "      <td>0.0</td>\n",
       "      <td>507.0</td>\n",
       "      <td>0.065217</td>\n",
       "      <td>0.430380</td>\n",
       "      <td>0.844156</td>\n",
       "    </tr>\n",
       "    <tr>\n",
       "      <th>2</th>\n",
       "      <td>America is a great country and terrorists can’...</td>\n",
       "      <td>41.000000</td>\n",
       "      <td>48.00000</td>\n",
       "      <td>1.0</td>\n",
       "      <td>0.000000</td>\n",
       "      <td>0.0</td>\n",
       "      <td>501.0</td>\n",
       "      <td>0.080808</td>\n",
       "      <td>0.358696</td>\n",
       "      <td>0.788889</td>\n",
       "    </tr>\n",
       "    <tr>\n",
       "      <th>3</th>\n",
       "      <td>Idiots loooool https://t.co/WwEioI3bJt cute hi...</td>\n",
       "      <td>43.000000</td>\n",
       "      <td>117.00000</td>\n",
       "      <td>0.0</td>\n",
       "      <td>1.000000</td>\n",
       "      <td>0.0</td>\n",
       "      <td>488.0</td>\n",
       "      <td>0.053763</td>\n",
       "      <td>0.435897</td>\n",
       "      <td>0.819277</td>\n",
       "    </tr>\n",
       "    <tr>\n",
       "      <th>9</th>\n",
       "      <td>'@DrGregoryWest gave me shivers...' Sociopaths...</td>\n",
       "      <td>53.894737</td>\n",
       "      <td>72.26316</td>\n",
       "      <td>0.0</td>\n",
       "      <td>0.947368</td>\n",
       "      <td>0.0</td>\n",
       "      <td>453.0</td>\n",
       "      <td>0.070707</td>\n",
       "      <td>0.472527</td>\n",
       "      <td>0.865979</td>\n",
       "    </tr>\n",
       "  </tbody>\n",
       "</table>\n",
       "</div>"
      ],
      "text/plain": [
       "                                             content  avg_followers  \\\n",
       "0  Obama is highly likely to fail these talks #Gu...      67.000000   \n",
       "1  '@LNever_mindL Then he was cheating us for yea...      43.800000   \n",
       "2  America is a great country and terrorists can’...      41.000000   \n",
       "3  Idiots loooool https://t.co/WwEioI3bJt cute hi...      43.000000   \n",
       "9  '@DrGregoryWest gave me shivers...' Sociopaths...      53.894737   \n",
       "\n",
       "   avg_following  avg_right  avg_left  avg_news   time      left       mid  \\\n",
       "0       72.00000        1.0  0.000000       0.0  539.0  0.053191  0.405063   \n",
       "1       53.00000        0.8  0.200000       0.0  507.0  0.065217  0.430380   \n",
       "2       48.00000        1.0  0.000000       0.0  501.0  0.080808  0.358696   \n",
       "3      117.00000        0.0  1.000000       0.0  488.0  0.053763  0.435897   \n",
       "9       72.26316        0.0  0.947368       0.0  453.0  0.070707  0.472527   \n",
       "\n",
       "      right  \n",
       "0  0.883117  \n",
       "1  0.844156  \n",
       "2  0.788889  \n",
       "3  0.819277  \n",
       "9  0.865979  "
      ]
     },
     "execution_count": 15,
     "metadata": {},
     "output_type": "execute_result"
    }
   ],
   "source": [
    "error_train.head()"
   ]
  },
  {
   "cell_type": "code",
   "execution_count": 25,
   "metadata": {},
   "outputs": [
    {
     "data": {
      "text/plain": [
       "Index(['content', 'avg_followers', 'avg_following', 'avg_right', 'avg_left',\n",
       "       'avg_news', 'time', 'left', 'mid', 'right'],\n",
       "      dtype='object')"
      ]
     },
     "execution_count": 25,
     "metadata": {},
     "output_type": "execute_result"
    }
   ],
   "source": [
    "error_train.columns"
   ]
  },
  {
   "cell_type": "code",
   "execution_count": 22,
   "metadata": {},
   "outputs": [],
   "source": [
    "for col in error_train.columns:\n",
    "    if col != 'content':\n",
    "        error_train[col] = error_train[col].astype(np.float32)"
   ]
  },
  {
   "cell_type": "code",
   "execution_count": 23,
   "metadata": {},
   "outputs": [
    {
     "data": {
      "text/html": [
       "<div>\n",
       "<style scoped>\n",
       "    .dataframe tbody tr th:only-of-type {\n",
       "        vertical-align: middle;\n",
       "    }\n",
       "\n",
       "    .dataframe tbody tr th {\n",
       "        vertical-align: top;\n",
       "    }\n",
       "\n",
       "    .dataframe thead th {\n",
       "        text-align: right;\n",
       "    }\n",
       "</style>\n",
       "<table border=\"1\" class=\"dataframe\">\n",
       "  <thead>\n",
       "    <tr style=\"text-align: right;\">\n",
       "      <th></th>\n",
       "      <th>content</th>\n",
       "      <th>avg_followers</th>\n",
       "      <th>avg_following</th>\n",
       "      <th>avg_right</th>\n",
       "      <th>avg_left</th>\n",
       "      <th>avg_news</th>\n",
       "      <th>time</th>\n",
       "      <th>left</th>\n",
       "      <th>mid</th>\n",
       "      <th>right</th>\n",
       "    </tr>\n",
       "  </thead>\n",
       "  <tbody>\n",
       "    <tr>\n",
       "      <th>0</th>\n",
       "      <td>Obama is highly likely to fail these talks #Gu...</td>\n",
       "      <td>67.000000</td>\n",
       "      <td>72.000000</td>\n",
       "      <td>1.0</td>\n",
       "      <td>0.000000</td>\n",
       "      <td>0.0</td>\n",
       "      <td>539.0</td>\n",
       "      <td>0.053191</td>\n",
       "      <td>0.405063</td>\n",
       "      <td>0.883117</td>\n",
       "    </tr>\n",
       "    <tr>\n",
       "      <th>1</th>\n",
       "      <td>'@LNever_mindL Then he was cheating us for yea...</td>\n",
       "      <td>43.799999</td>\n",
       "      <td>53.000000</td>\n",
       "      <td>0.8</td>\n",
       "      <td>0.200000</td>\n",
       "      <td>0.0</td>\n",
       "      <td>507.0</td>\n",
       "      <td>0.065217</td>\n",
       "      <td>0.430380</td>\n",
       "      <td>0.844156</td>\n",
       "    </tr>\n",
       "    <tr>\n",
       "      <th>2</th>\n",
       "      <td>America is a great country and terrorists can’...</td>\n",
       "      <td>41.000000</td>\n",
       "      <td>48.000000</td>\n",
       "      <td>1.0</td>\n",
       "      <td>0.000000</td>\n",
       "      <td>0.0</td>\n",
       "      <td>501.0</td>\n",
       "      <td>0.080808</td>\n",
       "      <td>0.358696</td>\n",
       "      <td>0.788889</td>\n",
       "    </tr>\n",
       "    <tr>\n",
       "      <th>3</th>\n",
       "      <td>Idiots loooool https://t.co/WwEioI3bJt cute hi...</td>\n",
       "      <td>43.000000</td>\n",
       "      <td>117.000000</td>\n",
       "      <td>0.0</td>\n",
       "      <td>1.000000</td>\n",
       "      <td>0.0</td>\n",
       "      <td>488.0</td>\n",
       "      <td>0.053763</td>\n",
       "      <td>0.435897</td>\n",
       "      <td>0.819277</td>\n",
       "    </tr>\n",
       "    <tr>\n",
       "      <th>9</th>\n",
       "      <td>'@DrGregoryWest gave me shivers...' Sociopaths...</td>\n",
       "      <td>53.894737</td>\n",
       "      <td>72.263161</td>\n",
       "      <td>0.0</td>\n",
       "      <td>0.947368</td>\n",
       "      <td>0.0</td>\n",
       "      <td>453.0</td>\n",
       "      <td>0.070707</td>\n",
       "      <td>0.472527</td>\n",
       "      <td>0.865979</td>\n",
       "    </tr>\n",
       "  </tbody>\n",
       "</table>\n",
       "</div>"
      ],
      "text/plain": [
       "                                             content  avg_followers  \\\n",
       "0  Obama is highly likely to fail these talks #Gu...      67.000000   \n",
       "1  '@LNever_mindL Then he was cheating us for yea...      43.799999   \n",
       "2  America is a great country and terrorists can’...      41.000000   \n",
       "3  Idiots loooool https://t.co/WwEioI3bJt cute hi...      43.000000   \n",
       "9  '@DrGregoryWest gave me shivers...' Sociopaths...      53.894737   \n",
       "\n",
       "   avg_following  avg_right  avg_left  avg_news   time      left       mid  \\\n",
       "0      72.000000        1.0  0.000000       0.0  539.0  0.053191  0.405063   \n",
       "1      53.000000        0.8  0.200000       0.0  507.0  0.065217  0.430380   \n",
       "2      48.000000        1.0  0.000000       0.0  501.0  0.080808  0.358696   \n",
       "3     117.000000        0.0  1.000000       0.0  488.0  0.053763  0.435897   \n",
       "9      72.263161        0.0  0.947368       0.0  453.0  0.070707  0.472527   \n",
       "\n",
       "      right  \n",
       "0  0.883117  \n",
       "1  0.844156  \n",
       "2  0.788889  \n",
       "3  0.819277  \n",
       "9  0.865979  "
      ]
     },
     "execution_count": 23,
     "metadata": {},
     "output_type": "execute_result"
    }
   ],
   "source": [
    "error_train.head()"
   ]
  },
  {
   "cell_type": "code",
   "execution_count": 24,
   "metadata": {},
   "outputs": [],
   "source": [
    "error_train.to_csv('mydata/twitter_pollster_7_days_train_small.csv',  index_label='id')"
   ]
  },
  {
   "cell_type": "code",
   "execution_count": null,
   "metadata": {},
   "outputs": [],
   "source": []
  }
 ],
 "metadata": {
  "kernelspec": {
   "display_name": "Python 3",
   "language": "python",
   "name": "python3"
  },
  "language_info": {
   "codemirror_mode": {
    "name": "ipython",
    "version": 3
   },
   "file_extension": ".py",
   "mimetype": "text/x-python",
   "name": "python",
   "nbconvert_exporter": "python",
   "pygments_lexer": "ipython3",
   "version": "3.5.2"
  }
 },
 "nbformat": 4,
 "nbformat_minor": 2
}
