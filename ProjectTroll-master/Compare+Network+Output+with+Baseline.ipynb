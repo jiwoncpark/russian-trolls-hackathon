{
 "cells": [
  {
   "cell_type": "code",
   "execution_count": 12,
   "metadata": {},
   "outputs": [],
   "source": [
    "import numpy as np\n",
    "import pandas as pd\n",
    "#pd.options.display.max_columns = None\n",
    "import matplotlib.pyplot as plt\n",
    "%matplotlib inline\n",
    "from torchtext.data import Field, TabularDataset, Iterator, Pipeline\n",
    "import torch\n",
    "from net.AttentionLSTM import AttentionLSTM\n",
    "import os, sys\n",
    "import numpy as np\n",
    "from torchtext.vocab import GloVe"
   ]
  },
  {
   "cell_type": "code",
   "execution_count": 3,
   "metadata": {},
   "outputs": [],
   "source": [
    "# Class meant to replace the 'obj'\n",
    "class Options():\n",
    "    def __init__(self):\n",
    "        self.vocab_size = 20427\n",
    "        self.embedding_dim = 25\n",
    "        #self.word_embeddings = nn.Embedding(self.vocab_size, self.embedding_dim)\n",
    "        self.hidden_size = 64\n",
    "        self.meta_hidden_size = 16\n",
    "        self.meta_dim = 9\n",
    "        self.total_hidden_size = 8\n",
    "        self.device = 'cpu' #'cuda:0'\n",
    "        self.output_size = 3\n",
    "        self.Glove_name = 'twitter.27B'\n",
    "        self.fix_length = None\n",
    "        self.attention_size = 64\n",
    "\n",
    "        troll_root = os.path.join(os.environ['REPOROOT'], 'ProjectTroll-master')\n",
    "        sys.path.insert(0, troll_root)\n",
    "        glove_path = os.path.join(troll_root, '.vector_cache')\n",
    "        self.data_path = os.path.join(troll_root, 'mydata')    \n",
    "\n",
    "        tokenize = lambda x: x.split()\n",
    "        TEXT = Field(sequential=True,\n",
    "                     tokenize=tokenize,\n",
    "                     lower=True,\n",
    "                     batch_first=True,\n",
    "                     fix_length=self.fix_length)\n",
    "\n",
    "        VARIABLE = Field(sequential=False,\n",
    "              dtype=torch.float,\n",
    "              batch_first=True,\n",
    "              use_vocab=False)\n",
    "\n",
    "        LABEL = Field(sequential=False,\n",
    "                      dtype=torch.float,\n",
    "                      batch_first=True,\n",
    "                      use_vocab=False)\n",
    "        train_csv = 'train1.csv'\n",
    "        #test_csv = 'test1.csv'\n",
    "\n",
    "        fields = [#('id', None),\n",
    "          ('content', TEXT),\n",
    "          ('avg_followers',VARIABLE),\n",
    "          ('avg_following', VARIABLE),\n",
    "          ('avg_left', VARIABLE),\n",
    "          ('avg_news', VARIABLE),\n",
    "          ('avg_right', VARIABLE),\n",
    "          ('time', VARIABLE),\n",
    "          ('baseline_pred_left', VARIABLE),\n",
    "          ('baseline_pred_mid', VARIABLE),\n",
    "          ('baseline_pred_right', VARIABLE),\n",
    "          ('left', LABEL),\n",
    "         ('mid', LABEL),\n",
    "         ('right', LABEL),\n",
    "         ('7', None),\n",
    "         ('8', None),\n",
    "         ('9', None)]\n",
    "\n",
    "        train_dataset = TabularDataset(path=self.data_path + '/' + train_csv,\n",
    "                                       format='csv',\n",
    "                                       skip_header=True,\n",
    "                                       fields=fields)\n",
    "        TEXT.build_vocab(train_dataset, vectors=GloVe(name=self.Glove_name,\n",
    "                                              dim=self.embedding_dim, \n",
    "                                             cache=glove_path))\n",
    "        #vocab_size = len(TEXT.vocab)\n",
    "        self.word_embeddings = TEXT.vocab.vectors"
   ]
  },
  {
   "cell_type": "code",
   "execution_count": 29,
   "metadata": {},
   "outputs": [
    {
     "name": "stdout",
     "output_type": "stream",
     "text": [
      "torch.Size([7, 20905])\n",
      "est: [[0.10828415 0.44404775 0.8827804 ]\n",
      " [0.10521817 0.48845437 0.89397734]\n",
      " [0.10160809 0.54228973 0.89199734]\n",
      " [0.10843219 0.5388453  0.88364935]\n",
      " [0.10358922 0.53472024 0.89907897]\n",
      " [0.09931304 0.5348629  0.89943117]\n",
      " [0.08990289 0.5403564  0.91280204]]\n"
     ]
    }
   ],
   "source": [
    "obj = Options()\n",
    "\n",
    "model = AttentionLSTM(obj)\n",
    "model.load_state_dict(torch.load('./results/net=AttentionLSTM-lr=0.01-total_loss.pth'))\n",
    "model.eval()\n",
    "# Target labels\n",
    "target = np.load('batch2.npy')\n",
    "# Input metadata\n",
    "input_meta_np = np.load('batch1.npy')\n",
    "input_meta = torch.from_numpy(input_meta_np)\n",
    "# Input text\n",
    "input_text_np = np.load('batch0.npy')\n",
    "input_text = torch.from_numpy(input_text_np)\n",
    "\n",
    "# Run inference\n",
    "est = model(input_text=input_text, input_meta=input_meta)\n",
    "est = est.detach().numpy()\n",
    "print(\"est:\", est)"
   ]
  },
  {
   "cell_type": "code",
   "execution_count": 28,
   "metadata": {},
   "outputs": [
    {
     "data": {
      "text/plain": [
       "Text(0.5,0,'Time')"
      ]
     },
     "execution_count": 28,
     "metadata": {},
     "output_type": "execute_result"
    },
    {
     "data": {
      "image/png": "[encoded data removed]",
      "text/plain": [
       "<Figure size 432x288 with 1 Axes>"
      ]
     },
     "metadata": {},
     "output_type": "display_data"
    }
   ],
   "source": [
    "colors = {0: 'b', 1: 'k', 2: 'r'}\n",
    "labels = {0: 'left', 1: 'mid', 2: 'right'}\n",
    "times = input_meta_np[:, 5]\n",
    "for flavor_idx in range(3):\n",
    "    plt.plot(times, target[:, flavor_idx], colors[flavor_idx] + '*', label='target %s' %labels[flavor_idx])\n",
    "    plt.plot(times, input_meta_np[:, flavor_idx+6], colors[flavor_idx] + '.', label='baseline %s pred' %labels[flavor_idx])\n",
    "    plt.plot(times, est[:, flavor_idx], colors[flavor_idx] + 'P', label='network %s output' %labels[flavor_idx])\n",
    "plt.legend(loc='center left', bbox_to_anchor=(1, 0.5))\n",
    "plt.ylabel(\"Trump Perentage\")\n",
    "plt.xlabel(\"Time\")"
   ]
  }
 ],
 "metadata": {
  "kernelspec": {
   "display_name": "Python 3",
   "language": "python",
   "name": "python3"
  },
  "language_info": {
   "codemirror_mode": {
    "name": "ipython",
    "version": 3
   },
   "file_extension": ".py",
   "mimetype": "text/x-python",
   "name": "python",
   "nbconvert_exporter": "python",
   "pygments_lexer": "ipython3",
   "version": "3.5.2"
  }
 },
 "nbformat": 4,
 "nbformat_minor": 2
}
