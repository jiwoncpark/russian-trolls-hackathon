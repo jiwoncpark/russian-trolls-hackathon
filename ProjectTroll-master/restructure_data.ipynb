{
 "cells": [
  {
   "cell_type": "code",
   "execution_count": 1,
   "metadata": {},
   "outputs": [],
   "source": [
    "import pandas as pd\n",
    "import numpy as np\n",
    "import matplotlib.pyplot as plt\n",
    "pd.options.display.max_columns = None\n",
    "%matplotlib inline\n",
    "%load_ext autoreload\n",
    "%autoreload 2"
   ]
  },
  {
   "cell_type": "code",
   "execution_count": 17,
   "metadata": {},
   "outputs": [],
   "source": [
    "train = pd.read_csv('mydata/twitter_pollster_7_days_train.csv')\n",
    "train.name = 'train'\n",
    "test = pd.read_csv('mydata/twitter_pollster_7_days_test.csv')\n",
    "test.name = 'test'\n",
    "#results.head()"
   ]
  },
  {
   "cell_type": "code",
   "execution_count": 18,
   "metadata": {},
   "outputs": [],
   "source": [
    "for df in [train, test]:\n",
    "    df['trump_percentage'] = (df['Trump'].values)/(df['Trump'].values + df['Clinton'].values)\n",
    "    df.to_csv('mydata/twitter_pollster_7_days_%s.csv' %df.name)"
   ]
  },
  {
   "cell_type": "code",
   "execution_count": 16,
   "metadata": {},
   "outputs": [
    {
     "data": {
      "text/plain": [
       "'      Unnamed: 0                                            content  Trump  \\\\\\n0              0  Nothing hurts more than being disappointed by ...   41.0   \\n1              1  Taggers! The @HashtagRoundup Triple Play comin...    6.0   \\n2              2  Now Playing: Figg Panamera - Came To See Pablo...   82.0   \\n3              3  Kamran Khan is following me now on Twitter! Th...   38.0   \\n4              4  Welp https://t.co/IgiGYXdpYu The Clinton Brand...   43.0   \\n5              5  #UN Secretary General Give Honors and Keepsake...   42.0   \\n6              6  On The Rise: LVNDVN Is Bringing His Own Sound ...   41.0   \\n7              8  #SometimesItsOkTo to go to sleep at work Alway...   84.0   \\n8             10  Fatima Siad by Itaysha Jordan for Arise Magazi...   45.0   \\n9             11  ..and here we remain.. ..putting bandaids on a...    6.0   \\n10            12  #ThingsThatDisturbMe knowing one man has so mu...   88.0   \\n11            13  to much music w/o melodies & harmonies just ri...   49.0   \\n12            14  .@w66425 @jimlonergan Intimidation. Initially,...   40.0   \\n13            15  #ThingsThatDisturbMe how could people be dumb ...   43.0   \\n14            18  .@CrookedIntriago set up his #GoodVsEvil proje...   44.0   \\n15            19  #SometimesItsOkTo skip the club and make it a ...   41.0   \\n16            20  #SometimesItsOkTo marry your sister. In Kentuc...   43.0   \\n17            21  #SometimesItsOkTo feel sad, we don\\'t have to s...   46.0   \\n18            22  Ludy - Ludy - High https://t.co/8bMdm8ELL5 #no...   44.0   \\n19            23  Thanks AJC - A Just Cause for allowing me on t...   44.0   \\n20            24  #ThingsThatDisturbMe clowns I hate clowns,exce...   44.0   \\n21            25  I push people away because I\\'m scared of getti...    4.0   \\n22            26  BREAKING: State official says authorities usin...   86.0   \\n23            29  People you just met asking too many personal q...    4.0   \\n24            30  #SometimesItsOkTo karate chop an endangered pe...   85.0   \\n25            32  #SometimesItsOkTo send dic pics. Just not you....   43.0   \\n26            33     #SometimesItsOkTo blame your farts on the cat.   42.0   \\n27            34  9.0 Magazine issue 12 features Songwriter Mizz...   39.0   \\n28            35  How to Get People Wanting to Hear Your Music h...    7.0   \\n29            36  9.0 Magazin Features Seth Felger @sethflger52 ...   81.0   \\n...          ...                                                ...    ...   \\n1009        1584  #Argentina fight back for 2-1 win on #Messi re...   34.0   \\n1010        1585  Opinion: Apple has become privacy’s unfortunat...   36.0   \\n1011        1586  #ThingsThatDidntBreakMe locking my keys in the...   34.0   \\n1012        1587  #ToBeHonestIJust stinkered...while he was big ...   38.0   \\n1013        1588  #ToBeHonestIJust need to lose like 10 lbs! htt...   10.0   \\n1014        1589  Multiple arrests at #BlackLivesMatter rally ou...   72.0   \\n1015        1590  Crying https://t.co/MFVuO0Kono Obama is NOT a ...   39.0   \\n1016        1591  #StopIslam #IslamKills aren\\'t there already to...   33.0   \\n1017        1592  #IslamKills REMEMBER WE ARE AMERICANS not pans...   35.0   \\n1018        1593  That\\'s it!Not complicated at all.\" #StopIslam ...    8.0   \\n1019        1594  #IslamKills RT @CharliePuthSPN: #PrayForBrusse...   69.0   \\n1020        1595  So \"women i woke up to this. the world is a sc...   35.0   \\n1021        1596  #Brussels #IslamKills Why can\\'t our government...   41.0   \\n1022        1597  #IslamKills Will someone please press it? #pra...    7.0   \\n1023        1598  Tell.us, genius, how many of your \"refugees\" a...   81.0   \\n1024        1599  Death and destruction needs to stop in this wo...   41.0   \\n1025        1600  #IslamKills Refugees are not welcome, that my ...   32.0   \\n1026        1601  RT @lazydayreads: #StopTheViolence in #Brussel...   41.0   \\n1027        1602  #IslamKills https://t.co/YtyaUblPzG #StopIslam...    3.0   \\n1028        1603  #IslamKills we can make a safe zone for them s...   76.0   \\n1029        1605  #StopIslam #IslamKills Where can incoming #ref...   41.0   \\n1030        1606  I chose to be happy today and everyday after t...   11.0   \\n1031        1607  #IslamKills #ocam4 #brussels #brusselsairport ...   75.0   \\n1032        1608  RT @GagaMagazineUK: #PrayForBrussels Stand str...   41.0   \\n1033        1609  RT @leftfooteddrive: It could have been you or...   38.0   \\n1034        1610  I wish we cared about our vets as much as Obam...   11.0   \\n1035        1611  Imagine how hard it would be to successfully v...   75.0   \\n1036        1612  So sad to hear about the explosions in Brussel...   34.0   \\n1037        1615  To document memories of the things we’ve done ...   41.0   \\n1038        1616  When you plant seeds, YOU are responsible for ...   10.0   \\n\\n      Clinton  trump_percentage  \\n0        45.0          0.476744  \\n1        89.0          0.063158  \\n2         7.0          0.921348  \\n3        43.0          0.469136  \\n4        41.0          0.511905  \\n5        43.0          0.494118  \\n6        45.0          0.476744  \\n7         4.0          0.954545  \\n8        49.0          0.478723  \\n9        91.0          0.061856  \\n10        6.0          0.936170  \\n11       38.0          0.563218  \\n12       45.0          0.470588  \\n13       46.0          0.483146  \\n14       38.0          0.536585  \\n15       44.0          0.482353  \\n16       47.0          0.477778  \\n17       49.0          0.484211  \\n18       50.0          0.468085  \\n19       50.0          0.468085  \\n20       48.0          0.478261  \\n21       91.0          0.042105  \\n22        9.0          0.905263  \\n23       90.0          0.042553  \\n24        8.0          0.913978  \\n25       41.0          0.511905  \\n26       43.0          0.494118  \\n27       44.0          0.469880  \\n28       84.0          0.076923  \\n29        6.0          0.931034  \\n...       ...               ...  \\n1009     38.0          0.472222  \\n1010     43.0          0.455696  \\n1011     39.0          0.465753  \\n1012     45.0          0.457831  \\n1013     79.0          0.112360  \\n1014     13.0          0.847059  \\n1015     36.0          0.520000  \\n1016     45.0          0.423077  \\n1017     47.0          0.426829  \\n1018     84.0          0.086957  \\n1019      9.0          0.884615  \\n1020     41.0          0.460526  \\n1021     50.0          0.450549  \\n1022     90.0          0.072165  \\n1023     12.0          0.870968  \\n1024     44.0          0.482353  \\n1025     45.0          0.415584  \\n1026     45.0          0.476744  \\n1027     92.0          0.031579  \\n1028      7.0          0.915663  \\n1029     48.0          0.460674  \\n1030     82.0          0.118280  \\n1031     12.0          0.862069  \\n1032     44.0          0.482353  \\n1033     44.0          0.463415  \\n1034     78.0          0.123596  \\n1035     11.0          0.872093  \\n1036     37.0          0.478873  \\n1037     48.0          0.460674  \\n1038     84.0          0.106383  \\n\\n[1039 rows x 5 columns]'"
      ]
     },
     "execution_count": 16,
     "metadata": {},
     "output_type": "execute_result"
    }
   ],
   "source": [
    "str(train)"
   ]
  },
  {
   "cell_type": "code",
   "execution_count": null,
   "metadata": {},
   "outputs": [],
   "source": []
  }
 ],
 "metadata": {
  "kernelspec": {
   "display_name": "Python 3",
   "language": "python",
   "name": "python3"
  },
  "language_info": {
   "codemirror_mode": {
    "name": "ipython",
    "version": 3
   },
   "file_extension": ".py",
   "mimetype": "text/x-python",
   "name": "python",
   "nbconvert_exporter": "python",
   "pygments_lexer": "ipython3",
   "version": "3.5.2"
  }
 },
 "nbformat": 4,
 "nbformat_minor": 2
}
